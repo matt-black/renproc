{
 "cells": [
  {
   "cell_type": "markdown",
   "id": "eb97395b-ca31-4cbe-966e-f28841235dfc",
   "metadata": {},
   "source": [
    "# Algorithm testing\n",
    "\n",
    "make the synthetic dataset from the original papers and compare their results to those from this library"
   ]
  },
  {
   "cell_type": "code",
   "execution_count": null,
   "id": "9ddb8f74-327d-4b05-8cb7-3ec7b9d7a44e",
   "metadata": {},
   "outputs": [],
   "source": [
    "import numpy\n",
    "import matplotlib\n",
    "import matplotlib.pyplot as plt\n",
    "%matplotlib widget\n",
    "\n",
    "import renproc.rt as rt\n",
    "import renproc.modrt as mrt"
   ]
  },
  {
   "cell_type": "markdown",
   "id": "170a7462-bb6f-4579-bd0a-6a6c8aa94c62",
   "metadata": {},
   "source": [
    "## remake data table from paper\n",
    "\n",
    "Table 1 of both Yardi and Soon & Woodrofe"
   ]
  },
  {
   "cell_type": "code",
   "execution_count": null,
   "id": "6baf135e-90bd-40d4-8d33-f6ac948241d3",
   "metadata": {},
   "outputs": [],
   "source": [
    "T = [[3,  0, 1, 0, 0],\n",
    "     [7,  1, 0, 0, 0],\n",
    "     [8,  0, 0, 1, 0],\n",
    "     [9,  2, 0, 0, 0],\n",
    "     [10, 0, 1, 0, 0],\n",
    "     [13, 1, 0, 0, 0],\n",
    "     [14, 0, 0, 1, 0],\n",
    "     [16, 1, 0, 0, 0],\n",
    "     [17, 0, 0, 0, 1],\n",
    "     [19, 2, 0, 0, 0]]\n",
    "T = numpy.asarray(T)"
   ]
  },
  {
   "cell_type": "markdown",
   "id": "190732f5-ddc9-4523-b8f7-8ce1eaf639f9",
   "metadata": {},
   "source": [
    "## test RT algorithm"
   ]
  },
  {
   "cell_type": "code",
   "execution_count": null,
   "id": "c8b5ba74-3a4d-43f3-b7b5-6ec950426908",
   "metadata": {},
   "outputs": [],
   "source": [
    "# expected values for different values of M\n",
    "M100_exp = numpy.asarray(\n",
    "    [0, 0.1082, 0, 0.2361, 0, 0.1307, 0, 0.1592, 0, 0.3303, 0.0355]\n",
    ")\n",
    "M1000_exp = numpy.asarray(\n",
    "    [0, 0.1092, 0, 0.2411, 0, 0.1354, 0, 0.1692, 0, 0.3393, 0.0053]\n",
    ")"
   ]
  },
  {
   "cell_type": "code",
   "execution_count": null,
   "id": "6ca28bb2-d1d1-444d-911d-8c9b898de641",
   "metadata": {},
   "outputs": [],
   "source": [
    "p_init = rt.initialize_p(T)\n",
    "p, delp = rt.rt_algorithm(T, p_init, 100, 10, verbose=True)"
   ]
  },
  {
   "cell_type": "code",
   "execution_count": null,
   "id": "46b1f9d9-5705-4b9b-b931-74aec4af3682",
   "metadata": {},
   "outputs": [],
   "source": [
    "matplotlib.rc('font', **{'size':14})\n",
    "_, ax = plt.subplots()\n",
    "ax.bar(T[:,0]+0.25, M100_exp[:-1], width=0.5, label='Paper Values')\n",
    "ax.bar(T[:,0]-0.25, p[:-1], width=0.5, label='Inferred')\n",
    "ax.set_xlabel('$t_i$')\n",
    "ax.set_xticks(T[:,0])\n",
    "ax.set_ylabel('P')\n",
    "ax.legend()"
   ]
  },
  {
   "cell_type": "markdown",
   "id": "1a1da899-6224-491d-98f6-7f2c2efec278",
   "metadata": {},
   "source": [
    "## test modified RT algorithm"
   ]
  },
  {
   "cell_type": "code",
   "execution_count": null,
   "id": "34b9ad98-f4cc-4192-b84c-19674feccd55",
   "metadata": {},
   "outputs": [],
   "source": [
    "# expected values for different values of M\n",
    "exp_val = numpy.asarray(\n",
    "    [0, 0.1104, 0, 0.2428, 0, 0.1371, 0, 0.1728, 0, 0.3369]\n",
    ")\n",
    "exp_v = 5.942"
   ]
  },
  {
   "cell_type": "code",
   "execution_count": null,
   "id": "55cbfb7b-ee40-4aa9-8bab-744dacdfa36f",
   "metadata": {},
   "outputs": [],
   "source": [
    "p_init, v_init = mrt.initialize_pv(T)\n",
    "print(p_init.shape)\n",
    "(p, v), (delp, delv) = mrt.modified_rt(T, p_init, v_init, 100, 0, verbose=True)"
   ]
  },
  {
   "cell_type": "code",
   "execution_count": null,
   "id": "6bce928e-11c6-4a92-a19d-7b8be8732649",
   "metadata": {},
   "outputs": [],
   "source": [
    "print([v, exp_v])"
   ]
  },
  {
   "cell_type": "code",
   "execution_count": null,
   "id": "089cd0d5-48c0-44b8-9bd3-61156a24a503",
   "metadata": {},
   "outputs": [],
   "source": [
    "matplotlib.rc('font', **{'size':14})\n",
    "_, ax = plt.subplots()\n",
    "ax.bar(T[:,0]+0.25, exp_val, width=0.5, label='Paper Values')\n",
    "ax.bar(T[:,0]-0.25, p, width=0.5, label='Inferred')\n",
    "ax.set_xlabel('$t_i$')\n",
    "ax.set_xticks(T[:,0])\n",
    "ax.set_ylabel('P')\n",
    "ax.legend()"
   ]
  },
  {
   "cell_type": "code",
   "execution_count": null,
   "id": "6b16fab8-2289-4dee-bea0-e19db439f332",
   "metadata": {},
   "outputs": [],
   "source": []
  }
 ],
 "metadata": {
  "kernelspec": {
   "display_name": "Python 3 (ipykernel)",
   "language": "python",
   "name": "python3"
  },
  "language_info": {
   "codemirror_mode": {
    "name": "ipython",
    "version": 3
   },
   "file_extension": ".py",
   "mimetype": "text/x-python",
   "name": "python",
   "nbconvert_exporter": "python",
   "pygments_lexer": "ipython3",
   "version": "3.9.16"
  }
 },
 "nbformat": 4,
 "nbformat_minor": 5
}
